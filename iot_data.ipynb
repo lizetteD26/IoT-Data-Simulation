{
  "metadata": {
    "kernelspec": {
      "name": "python",
      "display_name": "Python (Pyodide)",
      "language": "python"
    },
    "language_info": {
      "codemirror_mode": {
        "name": "python",
        "version": 3
      },
      "file_extension": ".py",
      "mimetype": "text/x-python",
      "name": "python",
      "nbconvert_exporter": "python",
      "pygments_lexer": "ipython3",
      "version": "3.8"
    }
  },
  "nbformat_minor": 5,
  "nbformat": 4,
  "cells": [
    {
      "id": "5ab22864-9931-4b03-aebb-d34db512bf82",
      "cell_type": "code",
      "source": "import pandas as pd\nimport numpy as np\nfrom datetime import datetime, timedelta\nimport uuid\n\nnum_records = 100\n\ndata = []\n\nfor _ in range(num_records):\n    timestamp = datetime.now() - timedelta(minutes=np.random.randint(0, 1440))  \n    block_number = np.random.randint(1000000, 2000000)\n    \n    record = {\n        \"transaction_hash\": f\"0x{uuid.uuid4().hex}\",  \n        \"contract_address\": f\"0x{uuid.uuid4().hex[:40]}\", \n        \"block_number\": block_number,\n        \"event_type\": \"VitalSignsRecorded\", \n        \"timestamp\": timestamp.isoformat(),\n        \"patient_id\": f\"PAT{np.random.randint(100, 999)}\",\n        \"heart_rate\": np.random.randint(60, 100),\n        \"blood_pressure\": f\"{np.random.randint(100, 140)}/{np.random.randint(60, 90)}\",\n        \"oxygen_level\": np.random.randint(95, 100),\n        \"body_temp\": round(np.random.uniform(36.0, 38.0), 1)\n    }\n    data.append(record)\n\n\ndf = pd.DataFrame(data)\n\ndf.to_csv(\"smart_contract_health_data.csv\", index=False)\ndf.to_json(\"smart_contract_health_data.json\", orient=\"records\")\n\ndf.head()\n",
      "metadata": {
        "trusted": true
      },
      "outputs": [],
      "execution_count": null
    },
    {
      "id": "56433a1f-9517-4a4c-b94e-ce0464723f8a",
      "cell_type": "code",
      "source": "from datetime import datetime\nfrom typing import List\n\n\nclass VitalSigns:\n    def __init__(self, timestamp, patient_id, heart_rate, blood_pressure, oxygen_level, body_temp):\n        self.timestamp = timestamp\n        self.patient_id = patient_id\n        self.heart_rate = heart_rate\n        self.blood_pressure = blood_pressure\n        self.oxygen_level = oxygen_level\n        self.body_temp = body_temp  \n\n    def to_dict(self):\n        return {\n            \"timestamp\": self.timestamp.isoformat(),\n            \"patient_id\": self.patient_id,\n            \"heart_rate\": self.heart_rate,\n            \"blood_pressure\": self.blood_pressure,\n            \"oxygen_level\": self.oxygen_level,\n            \"body_temp\": self.body_temp / 10  \n        }\n\n\nclass HealthDataStorage:\n    MAX_ENTRIES = 100\n\n    def __init__(self, owner):\n        self.owner = owner\n        self.health_records: List[VitalSigns] = []\n\n    def store_vital_signs(self, caller, patient_id, heart_rate, blood_pressure, oxygen_level, body_temp):\n        if caller != self.owner:\n            raise PermissionError(\"Not authorized\")\n\n        if len(self.health_records) >= self.MAX_ENTRIES:\n            raise OverflowError(\"Storage limit reached\")\n\n        timestamp = datetime.now()\n        record = VitalSigns(timestamp, patient_id, heart_rate, blood_pressure, oxygen_level, body_temp)\n        self.health_records.append(record)\n\n        print(f\"[Event] VitalSignsRecorded: {record.to_dict()}\")\n\n    def get_total_records(self):\n        return len(self.health_records)\n\n    def get_record(self, index):\n        if index >= len(self.health_records):\n            raise IndexError(\"Index out of bounds\")\n        return self.health_records[index].to_dict()\n",
      "metadata": {
        "trusted": true
      },
      "outputs": [],
      "execution_count": null
    },
    {
      "id": "8d2a7b43-ff12-4e2e-b8cb-50a8d42acf5c",
      "cell_type": "code",
      "source": "",
      "metadata": {
        "trusted": true
      },
      "outputs": [],
      "execution_count": null
    }
  ]
}